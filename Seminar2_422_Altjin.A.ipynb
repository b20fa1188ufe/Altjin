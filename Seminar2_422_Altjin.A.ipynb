{
 "cells": [
  {
   "cell_type": "code",
   "execution_count": 1,
   "metadata": {},
   "outputs": [
    {
     "name": "stdout",
     "output_type": "stream",
     "text": [
      "Palindrome\n"
     ]
    }
   ],
   "source": [
    "# 1\n",
    "def palindrom(a):\n",
    "    if a == a[::-1]:\n",
    "        return('Palindrome')\n",
    "    else:\n",
    "        return('Not palindrome')\n",
    "print(palindrom('hadgalagdah'))"
   ]
  },
  {
   "cell_type": "code",
   "execution_count": 1,
   "metadata": {},
   "outputs": [
    {
     "name": "stdout",
     "output_type": "stream",
     "text": [
      "Жижгээр бичигдсэн= 12\n",
      "Томоор бичигдсэн= 2\n"
     ]
    }
   ],
   "source": [
    "# 2\n",
    "def upperlower(list1):\n",
    "    a=' '.join(list1)\n",
    "    upper = 0\n",
    "    lower = 0\n",
    "    for i in range(len(a)):\n",
    "        if(a[i]>='a' and a[i]<='z'):\n",
    "            lower+=1\n",
    "        elif(a[i]>='A' and a[i]<='Z'):\n",
    "            upper+=1  \n",
    "    print('Жижгээр бичигдсэн=' ,lower)\n",
    "    print('Томоор бичигдсэн=' ,upper)     \n",
    "listt = ['My', 'name', 'is', 'Altjin']\n",
    "upperlower(listt) \n",
    "    "
   ]
  },
  {
   "cell_type": "code",
   "execution_count": 2,
   "metadata": {},
   "outputs": [
    {
     "name": "stdout",
     "output_type": "stream",
     "text": [
      "120\n"
     ]
    }
   ],
   "source": [
    "# 3\n",
    "def urjver(numlist):\n",
    "    y=1\n",
    "    k=0\n",
    "    while len(numlist)>k:\n",
    "        y = y*numlist[k]\n",
    "        k += 1\n",
    "    return(y)\n",
    "a = [1,2,3,4,5]\n",
    "print(urjver(a))"
   ]
  },
  {
   "cell_type": "code",
   "execution_count": 3,
   "metadata": {},
   "outputs": [
    {
     "name": "stdout",
     "output_type": "stream",
     "text": [
      "720\n"
     ]
    }
   ],
   "source": [
    "# 4\n",
    "def factorial(number):\n",
    "    if number < 0:\n",
    "        return('Surug toonii factorial oldohgui')\n",
    "    elif number == 0:\n",
    "        return('1')\n",
    "    else:\n",
    "        bakteral=1\n",
    "        for i in range(1, number+1):\n",
    "            bakteral = bakteral * i\n",
    "        return(bakteral)\n",
    "print(factorial(6))"
   ]
  },
  {
   "cell_type": "code",
   "execution_count": 4,
   "metadata": {},
   "outputs": [
    {
     "name": "stdout",
     "output_type": "stream",
     "text": [
      "['e', 'd', 'c', 'b', 'a']\n"
     ]
    }
   ],
   "source": [
    "# 5\n",
    "def urvuu(list1):\n",
    "    list1.reverse()\n",
    "    return(list1)\n",
    "letters = ['a', 'b', 'c', 'd','e']\n",
    "print(urvuu(letters))"
   ]
  },
  {
   "cell_type": "code",
   "execution_count": 5,
   "metadata": {},
   "outputs": [
    {
     "name": "stdout",
     "output_type": "stream",
     "text": [
      "15\n"
     ]
    }
   ],
   "source": [
    "# 6\n",
    "def niilber(numlist):\n",
    "    sum = 0\n",
    "    k=0\n",
    "    while len(numlist)>k:\n",
    "        sum += numlist[k]\n",
    "        k += 1\n",
    "    return(sum)\n",
    "a = [1,2,3,4,5]\n",
    "print(niilber(a))"
   ]
  },
  {
   "cell_type": "code",
   "execution_count": 6,
   "metadata": {},
   "outputs": [
    {
     "name": "stdout",
     "output_type": "stream",
     "text": [
      "[1, 3, 2, 5, 4]\n"
     ]
    }
   ],
   "source": [
    "# 7\n",
    "def overlap(list1):\n",
    "    list2 = []\n",
    "    [list2.append(i) for i in list1 if i not in list2]\n",
    "    return(list2)\n",
    "list1 = [1,3,2,5,1,3,4,5,1,2]\n",
    "print(overlap(list1))"
   ]
  },
  {
   "cell_type": "code",
   "execution_count": 7,
   "metadata": {},
   "outputs": [
    {
     "name": "stdout",
     "output_type": "stream",
     "text": [
      "6\n"
     ]
    }
   ],
   "source": [
    "# 8\n",
    "def maximum(a,b,c):\n",
    "    if a>b and a>c:\n",
    "        return(a)\n",
    "    elif b>a and b>c:\n",
    "        return(b)\n",
    "    else:\n",
    "        return(c)\n",
    "print(maximum(3,6,5))"
   ]
  }
 ],
 "metadata": {
  "kernelspec": {
   "display_name": "Python 3.9.12 ('base')",
   "language": "python",
   "name": "python3"
  },
  "language_info": {
   "codemirror_mode": {
    "name": "ipython",
    "version": 3
   },
   "file_extension": ".py",
   "mimetype": "text/x-python",
   "name": "python",
   "nbconvert_exporter": "python",
   "pygments_lexer": "ipython3",
   "version": "3.9.12"
  },
  "vscode": {
   "interpreter": {
    "hash": "3ce5929ed99f68c4ac6ee92eeea864d5f802e6cb5693e37e5de2e24715b759db"
   }
  }
 },
 "nbformat": 4,
 "nbformat_minor": 4
}
