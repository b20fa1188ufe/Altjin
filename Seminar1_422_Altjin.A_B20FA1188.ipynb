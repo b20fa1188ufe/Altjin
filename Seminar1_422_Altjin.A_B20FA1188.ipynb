{
 "cells": [
  {
   "cell_type": "code",
   "execution_count": 59,
   "metadata": {},
   "outputs": [
    {
     "name": "stdout",
     "output_type": "stream",
     "text": [
      "python\n",
      "php\n",
      "java\n"
     ]
    }
   ],
   "source": [
    "# 1\n",
    "list1 = ['python','php','java']\n",
    "for i in list1:\n",
    "    print(i)\n"
   ]
  },
  {
   "cell_type": "code",
   "execution_count": 61,
   "metadata": {},
   "outputs": [
    {
     "name": "stdout",
     "output_type": "stream",
     "text": [
      "55\n"
     ]
    }
   ],
   "source": [
    "# 2\n",
    "numlist = [1,2,3,4,5,6,7,8,9,10]\n",
    "sum = 0\n",
    "for i in range(10):\n",
    "    sum += numlist[i]\n",
    "print(sum)"
   ]
  },
  {
   "cell_type": "code",
   "execution_count": 62,
   "metadata": {},
   "outputs": [
    {
     "name": "stdout",
     "output_type": "stream",
     "text": [
      "120\n"
     ]
    }
   ],
   "source": [
    "# 3\n",
    "def urjver(numlist):\n",
    "    y=1\n",
    "    k=0\n",
    "    while len(numlist)>k:\n",
    "        y = y*numlist[k]\n",
    "        k += 1\n",
    "    return(y)\n",
    "numlist = [1,2,3,4,5]\n",
    "print(urjver(numlist))"
   ]
  },
  {
   "cell_type": "code",
   "execution_count": 63,
   "metadata": {},
   "outputs": [
    {
     "name": "stdout",
     "output_type": "stream",
     "text": [
      "-30\n"
     ]
    }
   ],
   "source": [
    "# 4\n",
    "def multiply(numlist):\n",
    "    x = numlist[2]*numlist[-1]\n",
    "    return(x)\n",
    "numlist = [-1,2,-3,4,-5,6,-7,8,-9,10]\n",
    "print(multiply(numlist))"
   ]
  },
  {
   "cell_type": "code",
   "execution_count": 13,
   "metadata": {},
   "outputs": [
    {
     "name": "stdout",
     "output_type": "stream",
     "text": [
      "(10, 1)\n"
     ]
    }
   ],
   "source": [
    "# 5\n",
    "def maxmin(numlist):\n",
    "    a = max(numlist)\n",
    "    b = min(numlist)\n",
    "    return(a,b)\n",
    "numlist = [1,2,3,4,5,6,7,8,9,10]\n",
    "print(maxmin(numlist))"
   ]
  },
  {
   "cell_type": "code",
   "execution_count": 14,
   "metadata": {},
   "outputs": [
    {
     "name": "stdout",
     "output_type": "stream",
     "text": [
      "3\n"
     ]
    }
   ],
   "source": [
    "# 6\n",
    "def count(list1):\n",
    "    counter = 0\n",
    "    for element in list1:\n",
    "        if len(element)>2 and element[0] == element[-1]:\n",
    "             counter+=1\n",
    "    return(counter)\n",
    "list1 = ['abdba', 'abcd', '121', 'nomin']\n",
    "print(count(list1))"
   ]
  },
  {
   "cell_type": "code",
   "execution_count": 15,
   "metadata": {},
   "outputs": [
    {
     "name": "stdout",
     "output_type": "stream",
     "text": [
      "[1, 3, 2, 5, 4]\n"
     ]
    }
   ],
   "source": [
    "# 7\n",
    "def overlap(list1):\n",
    "    list2 = []\n",
    "    [list2.append(i) for i in list1 if i not in list2]\n",
    "    return(list2)\n",
    "list1 = [1,3,2,5,1,3,4,5,1,2]\n",
    "print(overlap(list1))"
   ]
  },
  {
   "cell_type": "code",
   "execution_count": 20,
   "metadata": {},
   "outputs": [
    {
     "name": "stdout",
     "output_type": "stream",
     "text": [
      "Hooson jagsaalt\n"
     ]
    }
   ],
   "source": [
    "# 8\n",
    "def empty(list1):\n",
    "    if len(list1) == 0:\n",
    "        return(\"Hooson jagsaalt\")\n",
    "    else:\n",
    "        return(\"Jagsaalt hooson bish\")\n",
    "list1 = []\n",
    "print(empty(list1))"
   ]
  },
  {
   "cell_type": "code",
   "execution_count": 65,
   "metadata": {},
   "outputs": [
    {
     "name": "stdout",
     "output_type": "stream",
     "text": [
      "[1, 2, 3, 5, 7, 9, 10]\n"
     ]
    }
   ],
   "source": [
    "# 9\n",
    "def delete(numlist):\n",
    "    numlist.pop(3)\n",
    "    numlist.pop(4)\n",
    "    numlist.pop(5)\n",
    "    return(numlist)\n",
    "numlist = [1,2,3,4,5,6,7,8,9,10]\n",
    "print(delete(numlist))"
   ]
  },
  {
   "cell_type": "code",
   "execution_count": 96,
   "metadata": {},
   "outputs": [],
   "source": [
    "# 10\n",
    "numbers = (10,20,30,40,50)"
   ]
  },
  {
   "cell_type": "code",
   "execution_count": 34,
   "metadata": {},
   "outputs": [
    {
     "name": "stdout",
     "output_type": "stream",
     "text": [
      "c\n",
      "('a', 'b', 'c')\n"
     ]
    }
   ],
   "source": [
    "# 11\n",
    "def addelement(x):\n",
    "    y=list(x)\n",
    "    y.append(input())\n",
    "    x = tuple(y)\n",
    "    return(x)\n",
    "x = ('a','b')\n",
    "print(addelement(x))"
   ]
  },
  {
   "cell_type": "code",
   "execution_count": 3,
   "metadata": {
    "scrolled": true
   },
   "outputs": [
    {
     "name": "stdout",
     "output_type": "stream",
     "text": [
      "('b', 'd')\n"
     ]
    }
   ],
   "source": [
    "# 12\n",
    "def print2(list1):\n",
    "    return(list1[1],list1[-2])\n",
    "list1 = ('a','b','c','d','e')\n",
    "print(print2(list1))"
   ]
  },
  {
   "cell_type": "code",
   "execution_count": 23,
   "metadata": {},
   "outputs": [
    {
     "name": "stdout",
     "output_type": "stream",
     "text": [
      "orange\n",
      "Yes\n"
     ]
    }
   ],
   "source": [
    "# 13\n",
    "def utgashalgah(tpl):\n",
    "    x = input()\n",
    "    if x in tpl:\n",
    "        return('Yes')\n",
    "    else:\n",
    "        return('No')\n",
    "fruits = ('orange', 'apple', 'pear', 'banana', 'kiwi', 'apple', 'banana')\n",
    "print(utgashalgah(fruits))"
   ]
  },
  {
   "cell_type": "code",
   "execution_count": 34,
   "metadata": {},
   "outputs": [
    {
     "name": "stdout",
     "output_type": "stream",
     "text": [
      "['a', 'b', 'c', 'd', 'e']\n"
     ]
    }
   ],
   "source": [
    "# 14\n",
    "def hevleh(tpl):\n",
    "    k = 0\n",
    "    hevlelt=[]\n",
    "    while len(tpl)>k:\n",
    "        hevlelt.append(letters[k])\n",
    "        k += 1\n",
    "    return(hevlelt)\n",
    "letters = ('a','b','c','d','e')    \n",
    "print(hevleh(letters))"
   ]
  },
  {
   "cell_type": "code",
   "execution_count": 66,
   "metadata": {},
   "outputs": [
    {
     "name": "stdout",
     "output_type": "stream",
     "text": [
      "{'y', '2', '4', '1', 'z', '3', 'x'}\n"
     ]
    }
   ],
   "source": [
    "# 15\n",
    "numbers = {'1', '2', '3', '4'} \n",
    "letters = {'1', 'x', 'y', 'z'}\n",
    "newset = numbers.union(letters)\n",
    "print(newset)"
   ]
  },
  {
   "cell_type": "code",
   "execution_count": 67,
   "metadata": {},
   "outputs": [
    {
     "name": "stdout",
     "output_type": "stream",
     "text": [
      "{'2', 'y'}\n"
     ]
    }
   ],
   "source": [
    "# 16\n",
    "numbers = {'1', '2', '3', '4', 'y'} \n",
    "letters = {'2', 'x', 'y'} \n",
    "newset = numbers.intersection(letters)\n",
    "print(newset)"
   ]
  },
  {
   "cell_type": "code",
   "execution_count": 68,
   "metadata": {},
   "outputs": [
    {
     "name": "stdout",
     "output_type": "stream",
     "text": [
      "5\n"
     ]
    }
   ],
   "source": [
    "# 17\n",
    "numbers = {'1', '2', '3', '4', '5'} \n",
    "print(len(numbers))"
   ]
  },
  {
   "cell_type": "code",
   "execution_count": 104,
   "metadata": {},
   "outputs": [
    {
     "name": "stdout",
     "output_type": "stream",
     "text": [
      "c\n",
      "{'d', 'e', 'b', 'a'}\n"
     ]
    }
   ],
   "source": [
    "# 18\n",
    "letters = {'a', 'b', 'c', 'd','e'}\n",
    "letters.remove(input())\n",
    "print(letters)"
   ]
  },
  {
   "cell_type": "code",
   "execution_count": 105,
   "metadata": {},
   "outputs": [
    {
     "name": "stdout",
     "output_type": "stream",
     "text": [
      "set()\n"
     ]
    }
   ],
   "source": [
    "# 19\n",
    "letters = {'a', 'b', 'c', 'd','e'}\n",
    "letters.clear()\n",
    "print(letters)"
   ]
  },
  {
   "cell_type": "code",
   "execution_count": 106,
   "metadata": {},
   "outputs": [
    {
     "ename": "NameError",
     "evalue": "name 'fruits' is not defined",
     "output_type": "error",
     "traceback": [
      "\u001b[1;31m---------------------------------------------------------------------------\u001b[0m",
      "\u001b[1;31mNameError\u001b[0m                                 Traceback (most recent call last)",
      "\u001b[1;32m<ipython-input-106-b4d06dc9d335>\u001b[0m in \u001b[0;36m<module>\u001b[1;34m\u001b[0m\n\u001b[0;32m      2\u001b[0m \u001b[0mfruits\u001b[0m \u001b[1;33m=\u001b[0m \u001b[1;33m{\u001b[0m\u001b[1;34m'orange'\u001b[0m\u001b[1;33m,\u001b[0m \u001b[1;34m'apple'\u001b[0m\u001b[1;33m,\u001b[0m \u001b[1;34m'pear'\u001b[0m\u001b[1;33m,\u001b[0m \u001b[1;34m'banana'\u001b[0m\u001b[1;33m,\u001b[0m \u001b[1;34m'kiwi'\u001b[0m\u001b[1;33m,\u001b[0m \u001b[1;34m'apple'\u001b[0m\u001b[1;33m,\u001b[0m \u001b[1;34m'banana'\u001b[0m\u001b[1;33m}\u001b[0m\u001b[1;33m\u001b[0m\u001b[1;33m\u001b[0m\u001b[0m\n\u001b[0;32m      3\u001b[0m \u001b[1;32mdel\u001b[0m \u001b[0mfruits\u001b[0m\u001b[1;33m\u001b[0m\u001b[1;33m\u001b[0m\u001b[0m\n\u001b[1;32m----> 4\u001b[1;33m \u001b[0mprint\u001b[0m\u001b[1;33m(\u001b[0m\u001b[0mfruits\u001b[0m\u001b[1;33m)\u001b[0m\u001b[1;33m\u001b[0m\u001b[1;33m\u001b[0m\u001b[0m\n\u001b[0m",
      "\u001b[1;31mNameError\u001b[0m: name 'fruits' is not defined"
     ]
    }
   ],
   "source": [
    "# 20\n",
    "fruits = {'orange', 'apple', 'pear', 'banana', 'kiwi', 'apple', 'banana'}\n",
    "del fruits\n",
    "print(fruits)"
   ]
  },
  {
   "cell_type": "code",
   "execution_count": 69,
   "metadata": {},
   "outputs": [
    {
     "name": "stdout",
     "output_type": "stream",
     "text": [
      "[1, 4, 18, 21, 1975, 2003]\n",
      "[2003, 1975, 21, 18, 4, 1]\n"
     ]
    }
   ],
   "source": [
    "# 21\n",
    "dict1 = {\n",
    "    1975: 2003, \n",
    "    4:1, \n",
    "    21: 18 } \n",
    "list1 = list(dict1.keys())\n",
    "list2 = list(dict1.values())\n",
    "list3=list1+list2\n",
    "list3.sort()\n",
    "print(list3)\n",
    "list3.sort(reverse=True)\n",
    "print(list3)"
   ]
  },
  {
   "cell_type": "code",
   "execution_count": 57,
   "metadata": {},
   "outputs": [
    {
     "name": "stdout",
     "output_type": "stream",
     "text": [
      "Day is in it.\n"
     ]
    }
   ],
   "source": [
    "# 22\n",
    "dict1 = { \n",
    "    'Year': 2022, \n",
    "    'Month': 'February', \n",
    "    'Day': 'Wednesday' } \n",
    "if 'Day' in dict1:\n",
    "    print('Day is in it.' )"
   ]
  },
  {
   "cell_type": "code",
   "execution_count": 109,
   "metadata": {},
   "outputs": [
    {
     "name": "stdout",
     "output_type": "stream",
     "text": [
      "February is in it.\n"
     ]
    }
   ],
   "source": [
    "# 23\n",
    "dict1 = { \n",
    "    'Year': '2022', \n",
    "    'Month': 'February', \n",
    "    'Day': 'Wednesday' } \n",
    "if 'February' in dict1.values():\n",
    "    print('February is in it.' )\n",
    "else:\n",
    "    print('February is not in it')"
   ]
  },
  {
   "cell_type": "code",
   "execution_count": 110,
   "metadata": {},
   "outputs": [
    {
     "name": "stdout",
     "output_type": "stream",
     "text": [
      "Year 2022\n",
      "Month February\n",
      "Day Wednesday\n"
     ]
    }
   ],
   "source": [
    "# 24\n",
    "dict1 = { \n",
    "    'Year': 2022, \n",
    "    'Month': 'February', \n",
    "    'Day': 'Wednesday' } \n",
    "for x,y in dict1.items():\n",
    "    print(x,y)"
   ]
  },
  {
   "cell_type": "code",
   "execution_count": 111,
   "metadata": {},
   "outputs": [
    {
     "name": "stdout",
     "output_type": "stream",
     "text": [
      "{'Year': 2022, 'Month': 'February', 'Day': 'Wednesday', 'On': 2003, 'Sar': 1, 'Udur': 18}\n"
     ]
    }
   ],
   "source": [
    "# 25\n",
    "dict1 = { \n",
    "    'Year': 2022, \n",
    "    'Month': 'February', \n",
    "    'Day': 'Wednesday' } \n",
    "dict2 = {\n",
    "    'On': 2003, \n",
    "    'Sar':1, \n",
    "    'Udur': 18 } \n",
    "dict1.update(dict2)\n",
    "print(dict1)"
   ]
  },
  {
   "cell_type": "code",
   "execution_count": 112,
   "metadata": {},
   "outputs": [
    {
     "name": "stdout",
     "output_type": "stream",
     "text": [
      "2022\n"
     ]
    }
   ],
   "source": [
    "# 26\n",
    "dict1 = {\n",
    "    'Year': 2003, \n",
    "    'Month':1, \n",
    "    'Day': 18 } \n",
    "sum=0\n",
    "for i in dict1:\n",
    "    sum += dict1[i]\n",
    "print(sum)"
   ]
  },
  {
   "cell_type": "code",
   "execution_count": null,
   "metadata": {},
   "outputs": [],
   "source": []
  }
 ],
 "metadata": {
  "kernelspec": {
   "display_name": "Python 3",
   "language": "python",
   "name": "python3"
  },
  "language_info": {
   "codemirror_mode": {
    "name": "ipython",
    "version": 3
   },
   "file_extension": ".py",
   "mimetype": "text/x-python",
   "name": "python",
   "nbconvert_exporter": "python",
   "pygments_lexer": "ipython3",
   "version": "3.8.5"
  }
 },
 "nbformat": 4,
 "nbformat_minor": 4
}
